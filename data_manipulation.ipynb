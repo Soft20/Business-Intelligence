{
 "metadata": {
  "language_info": {
   "codemirror_mode": {
    "name": "ipython",
    "version": 3
   },
   "file_extension": ".py",
   "mimetype": "text/x-python",
   "name": "python",
   "nbconvert_exporter": "python",
   "pygments_lexer": "ipython3",
   "version": "3.7.6-final"
  },
  "orig_nbformat": 2,
  "kernelspec": {
   "name": "python3",
   "display_name": "Python 3"
  }
 },
 "nbformat": 4,
 "nbformat_minor": 2,
 "cells": [
  {
   "cell_type": "code",
   "execution_count": 48,
   "metadata": {},
   "outputs": [],
   "source": [
    "import pandas as pd"
   ]
  },
  {
   "cell_type": "code",
   "execution_count": 49,
   "metadata": {},
   "outputs": [
    {
     "output_type": "execute_result",
     "data": {
      "text/plain": [
       "        Entity      Code  Year  Total population (Gapminder, HYDE & UN)  \\\n",
       "0     Abkhazia  OWID_ABK  2015                                      NaN   \n",
       "1  Afghanistan       AFG  1800                                3280000.0   \n",
       "2  Afghanistan       AFG  1801                                3280000.0   \n",
       "3  Afghanistan       AFG  1802                                3280000.0   \n",
       "4  Afghanistan       AFG  1803                                3280000.0   \n",
       "\n",
       "  Continent  Depression male  Depression female  \n",
       "0      Asia              NaN                NaN  \n",
       "1       NaN              NaN                NaN  \n",
       "2       NaN              NaN                NaN  \n",
       "3       NaN              NaN                NaN  \n",
       "4       NaN              NaN                NaN  "
      ],
      "text/html": "<div>\n<style scoped>\n    .dataframe tbody tr th:only-of-type {\n        vertical-align: middle;\n    }\n\n    .dataframe tbody tr th {\n        vertical-align: top;\n    }\n\n    .dataframe thead th {\n        text-align: right;\n    }\n</style>\n<table border=\"1\" class=\"dataframe\">\n  <thead>\n    <tr style=\"text-align: right;\">\n      <th></th>\n      <th>Entity</th>\n      <th>Code</th>\n      <th>Year</th>\n      <th>Total population (Gapminder, HYDE &amp; UN)</th>\n      <th>Continent</th>\n      <th>Depression male</th>\n      <th>Depression female</th>\n    </tr>\n  </thead>\n  <tbody>\n    <tr>\n      <th>0</th>\n      <td>Abkhazia</td>\n      <td>OWID_ABK</td>\n      <td>2015</td>\n      <td>NaN</td>\n      <td>Asia</td>\n      <td>NaN</td>\n      <td>NaN</td>\n    </tr>\n    <tr>\n      <th>1</th>\n      <td>Afghanistan</td>\n      <td>AFG</td>\n      <td>1800</td>\n      <td>3280000.0</td>\n      <td>NaN</td>\n      <td>NaN</td>\n      <td>NaN</td>\n    </tr>\n    <tr>\n      <th>2</th>\n      <td>Afghanistan</td>\n      <td>AFG</td>\n      <td>1801</td>\n      <td>3280000.0</td>\n      <td>NaN</td>\n      <td>NaN</td>\n      <td>NaN</td>\n    </tr>\n    <tr>\n      <th>3</th>\n      <td>Afghanistan</td>\n      <td>AFG</td>\n      <td>1802</td>\n      <td>3280000.0</td>\n      <td>NaN</td>\n      <td>NaN</td>\n      <td>NaN</td>\n    </tr>\n    <tr>\n      <th>4</th>\n      <td>Afghanistan</td>\n      <td>AFG</td>\n      <td>1803</td>\n      <td>3280000.0</td>\n      <td>NaN</td>\n      <td>NaN</td>\n      <td>NaN</td>\n    </tr>\n  </tbody>\n</table>\n</div>"
     },
     "metadata": {},
     "execution_count": 49
    }
   ],
   "source": [
    "depression = \"prevalence-of-depression-males-vs-females.csv\"\n",
    "depression_male = \"Prevalence - Depressive disorders - Sex: Male - Age: Age-standardized (Percent)\"\n",
    "depression_female = \"Prevalence - Depressive disorders - Sex: Female - Age: Age-standardized (Percent)\"\n",
    "\n",
    "data = pd.read_csv(f\"data\\{depression}\")\n",
    "data = data.rename(columns={depression_male:\"Depression male\", depression_female:\"Depression female\"})\n",
    "data.head()"
   ]
  },
  {
   "cell_type": "code",
   "execution_count": 50,
   "metadata": {},
   "outputs": [
    {
     "output_type": "execute_result",
     "data": {
      "text/plain": [
       "Entity                                         0\n",
       "Code                                        1726\n",
       "Year                                           0\n",
       "Total population (Gapminder, HYDE & UN)      975\n",
       "Continent                                  47573\n",
       "Depression male                            41390\n",
       "Depression female                          41390\n",
       "dtype: int64"
      ]
     },
     "metadata": {},
     "execution_count": 50
    }
   ],
   "source": [
    "data.isnull().sum()"
   ]
  },
  {
   "cell_type": "code",
   "execution_count": 51,
   "metadata": {},
   "outputs": [
    {
     "output_type": "execute_result",
     "data": {
      "text/plain": [
       "count    47858.000000\n",
       "mean      1902.491329\n",
       "std        316.631498\n",
       "min     -10000.000000\n",
       "25%       1859.000000\n",
       "50%       1919.000000\n",
       "75%       1974.000000\n",
       "max       2019.000000\n",
       "Name: Year, dtype: float64"
      ]
     },
     "metadata": {},
     "execution_count": 51
    }
   ],
   "source": [
    "data[\"Year\"].describe()"
   ]
  },
  {
   "cell_type": "code",
   "execution_count": 52,
   "metadata": {
    "tags": []
   },
   "outputs": [
    {
     "output_type": "execute_result",
     "data": {
      "text/plain": [
       "          Entity      Code  Year  Total population (Gapminder, HYDE & UN)  \\\n",
       "0       Abkhazia  OWID_ABK  2015                                      NaN   \n",
       "201  Afghanistan       AFG  2000                               20780000.0   \n",
       "202  Afghanistan       AFG  2001                               21607000.0   \n",
       "203  Afghanistan       AFG  2002                               22601000.0   \n",
       "204  Afghanistan       AFG  2003                               23681000.0   \n",
       "\n",
       "    Continent  Depression male  Depression female  \n",
       "0        Asia              NaN                NaN  \n",
       "201       NaN         3.541144           4.683006  \n",
       "202       NaN         3.544092           4.684995  \n",
       "203       NaN         3.547732           4.686792  \n",
       "204       NaN         3.550443           4.683816  "
      ],
      "text/html": "<div>\n<style scoped>\n    .dataframe tbody tr th:only-of-type {\n        vertical-align: middle;\n    }\n\n    .dataframe tbody tr th {\n        vertical-align: top;\n    }\n\n    .dataframe thead th {\n        text-align: right;\n    }\n</style>\n<table border=\"1\" class=\"dataframe\">\n  <thead>\n    <tr style=\"text-align: right;\">\n      <th></th>\n      <th>Entity</th>\n      <th>Code</th>\n      <th>Year</th>\n      <th>Total population (Gapminder, HYDE &amp; UN)</th>\n      <th>Continent</th>\n      <th>Depression male</th>\n      <th>Depression female</th>\n    </tr>\n  </thead>\n  <tbody>\n    <tr>\n      <th>0</th>\n      <td>Abkhazia</td>\n      <td>OWID_ABK</td>\n      <td>2015</td>\n      <td>NaN</td>\n      <td>Asia</td>\n      <td>NaN</td>\n      <td>NaN</td>\n    </tr>\n    <tr>\n      <th>201</th>\n      <td>Afghanistan</td>\n      <td>AFG</td>\n      <td>2000</td>\n      <td>20780000.0</td>\n      <td>NaN</td>\n      <td>3.541144</td>\n      <td>4.683006</td>\n    </tr>\n    <tr>\n      <th>202</th>\n      <td>Afghanistan</td>\n      <td>AFG</td>\n      <td>2001</td>\n      <td>21607000.0</td>\n      <td>NaN</td>\n      <td>3.544092</td>\n      <td>4.684995</td>\n    </tr>\n    <tr>\n      <th>203</th>\n      <td>Afghanistan</td>\n      <td>AFG</td>\n      <td>2002</td>\n      <td>22601000.0</td>\n      <td>NaN</td>\n      <td>3.547732</td>\n      <td>4.686792</td>\n    </tr>\n    <tr>\n      <th>204</th>\n      <td>Afghanistan</td>\n      <td>AFG</td>\n      <td>2003</td>\n      <td>23681000.0</td>\n      <td>NaN</td>\n      <td>3.550443</td>\n      <td>4.683816</td>\n    </tr>\n  </tbody>\n</table>\n</div>"
     },
     "metadata": {},
     "execution_count": 52
    }
   ],
   "source": [
    "data = data.drop(data[data[\"Year\"] < 2000].index)\n",
    "data.head()"
   ]
  },
  {
   "cell_type": "code",
   "execution_count": 53,
   "metadata": {},
   "outputs": [],
   "source": [
    "data = data.dropna(subset=[\"Depression male\",\"Depression female\"])"
   ]
  },
  {
   "cell_type": "code",
   "execution_count": 54,
   "metadata": {},
   "outputs": [
    {
     "output_type": "execute_result",
     "data": {
      "text/plain": [
       "Entity                                        0\n",
       "Code                                        630\n",
       "Year                                          0\n",
       "Total population (Gapminder, HYDE & UN)     594\n",
       "Continent                                  3963\n",
       "Depression male                               0\n",
       "Depression female                             0\n",
       "dtype: int64"
      ]
     },
     "metadata": {},
     "execution_count": 54
    }
   ],
   "source": [
    "data.isnull().sum()"
   ]
  },
  {
   "cell_type": "code",
   "execution_count": 56,
   "metadata": {},
   "outputs": [],
   "source": [
    "data.to_csv(\"data/prevalence-of-depression-males-vs-females-2.0.csv\")"
   ]
  }
 ]
}