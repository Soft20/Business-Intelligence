{
 "metadata": {
  "language_info": {
   "codemirror_mode": {
    "name": "ipython",
    "version": 3
   },
   "file_extension": ".py",
   "mimetype": "text/x-python",
   "name": "python",
   "nbconvert_exporter": "python",
   "pygments_lexer": "ipython3",
   "version": "3.7.4-final"
  },
  "orig_nbformat": 2,
  "kernelspec": {
   "name": "python3",
   "display_name": "Python 3"
  }
 },
 "nbformat": 4,
 "nbformat_minor": 2,
 "cells": [
  {
   "source": [
    "# Assignment 3: Tableau Integrating AI"
   ],
   "cell_type": "markdown",
   "metadata": {}
  },
  {
   "source": [
    "## Imports and Envirioment"
   ],
   "cell_type": "markdown",
   "metadata": {}
  },
  {
   "cell_type": "code",
   "execution_count": 247,
   "metadata": {},
   "outputs": [],
   "source": [
    "# data structure\n",
    "import numpy as np\n",
    "import pandas as pd\n",
    "\n",
    "# machine leraning tools\n",
    "from sklearn.model_selection import train_test_split\n",
    "from sklearn.linear_model import LinearRegression\n",
    "from sklearn.preprocessing import StandardScaler\n",
    "\n",
    "# tableau tools\n",
    "from tabpy.tabpy_tools.client import Client"
   ]
  },
  {
   "cell_type": "code",
   "execution_count": null,
   "metadata": {},
   "outputs": [],
   "source": [
    "# for model saving and loading\n",
    "from joblib import dump, load"
   ]
  },
  {
   "source": [
    "## Load Data"
   ],
   "cell_type": "markdown",
   "metadata": {}
  },
  {
   "cell_type": "code",
   "execution_count": 248,
   "metadata": {},
   "outputs": [
    {
     "output_type": "execute_result",
     "data": {
      "text/plain": [
       "   Unnamed: 0            Timestamp  Age  Gender         Country state  \\\n",
       "0           0  2014-08-27 11:29:31   37       1   United States    IL   \n",
       "1           1  2014-08-27 11:29:37   44      -1   United States    IN   \n",
       "2           2  2014-08-27 11:29:44   32      -1          Canada   NaN   \n",
       "3           3  2014-08-27 11:29:46   31      -1  United Kingdom   NaN   \n",
       "4           4  2014-08-27 11:30:22   31      -1   United States    TX   \n",
       "\n",
       "   self_employed  family_history  treatment  work_interfere  ...     leave  \\\n",
       "0            0.0              -1          1             3.0  ...  1.000000   \n",
       "1            0.0              -1         -1             1.0  ...  1.166667   \n",
       "2            0.0              -1         -1             1.0  ...  2.000000   \n",
       "3            0.0               1          1             3.0  ...  2.000000   \n",
       "4            0.0              -1         -1             0.0  ...  1.166667   \n",
       "\n",
       "  mental_health_consequence phys_health_consequence coworkers supervisor  \\\n",
       "0                        -1                      -1         0          1   \n",
       "1                         0                      -1        -1         -1   \n",
       "2                        -1                      -1         1          1   \n",
       "3                         1                       1         0         -1   \n",
       "4                        -1                      -1         0          1   \n",
       "\n",
       "  mental_health_interview phys_health_interview mental_vs_physical  \\\n",
       "0                      -1                     0                  1   \n",
       "1                      -1                    -1                  0   \n",
       "2                       1                     1                 -1   \n",
       "3                       0                     0                 -1   \n",
       "4                       1                     1                  0   \n",
       "\n",
       "   obs_consequence  comments  \n",
       "0               -1       NaN  \n",
       "1               -1       NaN  \n",
       "2               -1       NaN  \n",
       "3                1       NaN  \n",
       "4               -1       NaN  \n",
       "\n",
       "[5 rows x 28 columns]"
      ],
      "text/html": "<div>\n<style scoped>\n    .dataframe tbody tr th:only-of-type {\n        vertical-align: middle;\n    }\n\n    .dataframe tbody tr th {\n        vertical-align: top;\n    }\n\n    .dataframe thead th {\n        text-align: right;\n    }\n</style>\n<table border=\"1\" class=\"dataframe\">\n  <thead>\n    <tr style=\"text-align: right;\">\n      <th></th>\n      <th>Unnamed: 0</th>\n      <th>Timestamp</th>\n      <th>Age</th>\n      <th>Gender</th>\n      <th>Country</th>\n      <th>state</th>\n      <th>self_employed</th>\n      <th>family_history</th>\n      <th>treatment</th>\n      <th>work_interfere</th>\n      <th>...</th>\n      <th>leave</th>\n      <th>mental_health_consequence</th>\n      <th>phys_health_consequence</th>\n      <th>coworkers</th>\n      <th>supervisor</th>\n      <th>mental_health_interview</th>\n      <th>phys_health_interview</th>\n      <th>mental_vs_physical</th>\n      <th>obs_consequence</th>\n      <th>comments</th>\n    </tr>\n  </thead>\n  <tbody>\n    <tr>\n      <th>0</th>\n      <td>0</td>\n      <td>2014-08-27 11:29:31</td>\n      <td>37</td>\n      <td>1</td>\n      <td>United States</td>\n      <td>IL</td>\n      <td>0.0</td>\n      <td>-1</td>\n      <td>1</td>\n      <td>3.0</td>\n      <td>...</td>\n      <td>1.000000</td>\n      <td>-1</td>\n      <td>-1</td>\n      <td>0</td>\n      <td>1</td>\n      <td>-1</td>\n      <td>0</td>\n      <td>1</td>\n      <td>-1</td>\n      <td>NaN</td>\n    </tr>\n    <tr>\n      <th>1</th>\n      <td>1</td>\n      <td>2014-08-27 11:29:37</td>\n      <td>44</td>\n      <td>-1</td>\n      <td>United States</td>\n      <td>IN</td>\n      <td>0.0</td>\n      <td>-1</td>\n      <td>-1</td>\n      <td>1.0</td>\n      <td>...</td>\n      <td>1.166667</td>\n      <td>0</td>\n      <td>-1</td>\n      <td>-1</td>\n      <td>-1</td>\n      <td>-1</td>\n      <td>-1</td>\n      <td>0</td>\n      <td>-1</td>\n      <td>NaN</td>\n    </tr>\n    <tr>\n      <th>2</th>\n      <td>2</td>\n      <td>2014-08-27 11:29:44</td>\n      <td>32</td>\n      <td>-1</td>\n      <td>Canada</td>\n      <td>NaN</td>\n      <td>0.0</td>\n      <td>-1</td>\n      <td>-1</td>\n      <td>1.0</td>\n      <td>...</td>\n      <td>2.000000</td>\n      <td>-1</td>\n      <td>-1</td>\n      <td>1</td>\n      <td>1</td>\n      <td>1</td>\n      <td>1</td>\n      <td>-1</td>\n      <td>-1</td>\n      <td>NaN</td>\n    </tr>\n    <tr>\n      <th>3</th>\n      <td>3</td>\n      <td>2014-08-27 11:29:46</td>\n      <td>31</td>\n      <td>-1</td>\n      <td>United Kingdom</td>\n      <td>NaN</td>\n      <td>0.0</td>\n      <td>1</td>\n      <td>1</td>\n      <td>3.0</td>\n      <td>...</td>\n      <td>2.000000</td>\n      <td>1</td>\n      <td>1</td>\n      <td>0</td>\n      <td>-1</td>\n      <td>0</td>\n      <td>0</td>\n      <td>-1</td>\n      <td>1</td>\n      <td>NaN</td>\n    </tr>\n    <tr>\n      <th>4</th>\n      <td>4</td>\n      <td>2014-08-27 11:30:22</td>\n      <td>31</td>\n      <td>-1</td>\n      <td>United States</td>\n      <td>TX</td>\n      <td>0.0</td>\n      <td>-1</td>\n      <td>-1</td>\n      <td>0.0</td>\n      <td>...</td>\n      <td>1.166667</td>\n      <td>-1</td>\n      <td>-1</td>\n      <td>0</td>\n      <td>1</td>\n      <td>1</td>\n      <td>1</td>\n      <td>0</td>\n      <td>-1</td>\n      <td>NaN</td>\n    </tr>\n  </tbody>\n</table>\n<p>5 rows × 28 columns</p>\n</div>"
     },
     "metadata": {},
     "execution_count": 248
    }
   ],
   "source": [
    "data_path = \"../data/survey_strict_only_numbers.csv\"\n",
    "df = pd.read_csv(data_path)\n",
    "df.head()"
   ]
  },
  {
   "source": [
    "## Data Analysis"
   ],
   "cell_type": "markdown",
   "metadata": {}
  },
  {
   "cell_type": "code",
   "execution_count": 249,
   "metadata": {},
   "outputs": [
    {
     "output_type": "execute_result",
     "data": {
      "text/plain": [
       "(1259, 28)"
      ]
     },
     "metadata": {},
     "execution_count": 249
    }
   ],
   "source": [
    "df.shape"
   ]
  },
  {
   "cell_type": "code",
   "execution_count": 250,
   "metadata": {},
   "outputs": [
    {
     "output_type": "stream",
     "name": "stdout",
     "text": [
      "<class 'pandas.core.frame.DataFrame'>\nRangeIndex: 1259 entries, 0 to 1258\nData columns (total 28 columns):\n #   Column                     Non-Null Count  Dtype  \n---  ------                     --------------  -----  \n 0   Unnamed: 0                 1259 non-null   int64  \n 1   Timestamp                  1259 non-null   object \n 2   Age                        1259 non-null   int64  \n 3   Gender                     1259 non-null   int64  \n 4   Country                    1259 non-null   object \n 5   state                      744 non-null    object \n 6   self_employed              1259 non-null   float64\n 7   family_history             1259 non-null   int64  \n 8   treatment                  1259 non-null   int64  \n 9   work_interfere             1259 non-null   float64\n 10  no_employees               1259 non-null   int64  \n 11  remote_work                1259 non-null   object \n 12  tech_company               1259 non-null   object \n 13  benefits                   1259 non-null   object \n 14  care_options               1259 non-null   object \n 15  wellness_program           1259 non-null   object \n 16  seek_help                  1259 non-null   object \n 17  anonymity                  1259 non-null   object \n 18  leave                      1259 non-null   float64\n 19  mental_health_consequence  1259 non-null   int64  \n 20  phys_health_consequence    1259 non-null   int64  \n 21  coworkers                  1259 non-null   int64  \n 22  supervisor                 1259 non-null   int64  \n 23  mental_health_interview    1259 non-null   int64  \n 24  phys_health_interview      1259 non-null   int64  \n 25  mental_vs_physical         1259 non-null   int64  \n 26  obs_consequence            1259 non-null   int64  \n 27  comments                   164 non-null    object \ndtypes: float64(3), int64(14), object(11)\nmemory usage: 275.5+ KB\n"
     ]
    }
   ],
   "source": [
    "df.info()"
   ]
  },
  {
   "cell_type": "code",
   "execution_count": 251,
   "metadata": {},
   "outputs": [
    {
     "output_type": "execute_result",
     "data": {
      "text/plain": [
       "        Unnamed: 0           Age       Gender  self_employed  family_history  \\\n",
       "count  1259.000000  1.259000e+03  1259.000000    1259.000000     1259.000000   \n",
       "mean    629.000000  7.942815e+07    -0.593328      -0.753773       -0.218427   \n",
       "std     363.586303  2.818299e+09     0.797345       0.646422        0.976241   \n",
       "min       0.000000 -1.726000e+03    -1.000000      -1.000000       -1.000000   \n",
       "25%     314.500000  2.700000e+01    -1.000000      -1.000000       -1.000000   \n",
       "50%     629.000000  3.100000e+01    -1.000000      -1.000000       -1.000000   \n",
       "75%     943.500000  3.600000e+01    -1.000000      -1.000000        1.000000   \n",
       "max    1258.000000  1.000000e+11     1.000000       1.000000        1.000000   \n",
       "\n",
       "         treatment  work_interfere  no_employees        leave  \\\n",
       "count  1259.000000     1259.000000   1259.000000  1259.000000   \n",
       "mean      0.011914        1.542711      2.419380     1.166667   \n",
       "std       1.000326        0.873990      1.708151     0.748431   \n",
       "min      -1.000000        0.000000      0.000000     0.000000   \n",
       "25%      -1.000000        1.000000      1.000000     1.000000   \n",
       "50%       1.000000        1.542700      2.000000     1.166667   \n",
       "75%       1.000000        2.000000      4.000000     1.166667   \n",
       "max       1.000000        3.000000      5.000000     3.000000   \n",
       "\n",
       "       mental_health_consequence  phys_health_consequence   coworkers  \\\n",
       "count                1259.000000              1259.000000  1259.00000   \n",
       "mean                   -0.157268                -0.686259    -0.02780   \n",
       "std                     0.772573                 0.558980     0.62029   \n",
       "min                    -1.000000                -1.000000    -1.00000   \n",
       "25%                    -1.000000                -1.000000     0.00000   \n",
       "50%                     0.000000                -1.000000     0.00000   \n",
       "75%                     0.000000                 0.000000     0.00000   \n",
       "max                     1.000000                 1.000000     1.00000   \n",
       "\n",
       "        supervisor  mental_health_interview  phys_health_interview  \\\n",
       "count  1259.000000              1259.000000            1259.000000   \n",
       "mean      0.097697                -0.765687              -0.236696   \n",
       "std       0.844407                 0.499505               0.708491   \n",
       "min      -1.000000                -1.000000              -1.000000   \n",
       "25%      -1.000000                -1.000000              -1.000000   \n",
       "50%       0.000000                -1.000000               0.000000   \n",
       "75%       1.000000                -1.000000               0.000000   \n",
       "max       1.000000                 1.000000               1.000000   \n",
       "\n",
       "       mental_vs_physical  obs_consequence  \n",
       "count         1259.000000      1259.000000  \n",
       "mean             0.002383        -0.707705  \n",
       "std              0.736831         0.706789  \n",
       "min             -1.000000        -1.000000  \n",
       "25%             -1.000000        -1.000000  \n",
       "50%              0.000000        -1.000000  \n",
       "75%              1.000000        -1.000000  \n",
       "max              1.000000         1.000000  "
      ],
      "text/html": "<div>\n<style scoped>\n    .dataframe tbody tr th:only-of-type {\n        vertical-align: middle;\n    }\n\n    .dataframe tbody tr th {\n        vertical-align: top;\n    }\n\n    .dataframe thead th {\n        text-align: right;\n    }\n</style>\n<table border=\"1\" class=\"dataframe\">\n  <thead>\n    <tr style=\"text-align: right;\">\n      <th></th>\n      <th>Unnamed: 0</th>\n      <th>Age</th>\n      <th>Gender</th>\n      <th>self_employed</th>\n      <th>family_history</th>\n      <th>treatment</th>\n      <th>work_interfere</th>\n      <th>no_employees</th>\n      <th>leave</th>\n      <th>mental_health_consequence</th>\n      <th>phys_health_consequence</th>\n      <th>coworkers</th>\n      <th>supervisor</th>\n      <th>mental_health_interview</th>\n      <th>phys_health_interview</th>\n      <th>mental_vs_physical</th>\n      <th>obs_consequence</th>\n    </tr>\n  </thead>\n  <tbody>\n    <tr>\n      <th>count</th>\n      <td>1259.000000</td>\n      <td>1.259000e+03</td>\n      <td>1259.000000</td>\n      <td>1259.000000</td>\n      <td>1259.000000</td>\n      <td>1259.000000</td>\n      <td>1259.000000</td>\n      <td>1259.000000</td>\n      <td>1259.000000</td>\n      <td>1259.000000</td>\n      <td>1259.000000</td>\n      <td>1259.00000</td>\n      <td>1259.000000</td>\n      <td>1259.000000</td>\n      <td>1259.000000</td>\n      <td>1259.000000</td>\n      <td>1259.000000</td>\n    </tr>\n    <tr>\n      <th>mean</th>\n      <td>629.000000</td>\n      <td>7.942815e+07</td>\n      <td>-0.593328</td>\n      <td>-0.753773</td>\n      <td>-0.218427</td>\n      <td>0.011914</td>\n      <td>1.542711</td>\n      <td>2.419380</td>\n      <td>1.166667</td>\n      <td>-0.157268</td>\n      <td>-0.686259</td>\n      <td>-0.02780</td>\n      <td>0.097697</td>\n      <td>-0.765687</td>\n      <td>-0.236696</td>\n      <td>0.002383</td>\n      <td>-0.707705</td>\n    </tr>\n    <tr>\n      <th>std</th>\n      <td>363.586303</td>\n      <td>2.818299e+09</td>\n      <td>0.797345</td>\n      <td>0.646422</td>\n      <td>0.976241</td>\n      <td>1.000326</td>\n      <td>0.873990</td>\n      <td>1.708151</td>\n      <td>0.748431</td>\n      <td>0.772573</td>\n      <td>0.558980</td>\n      <td>0.62029</td>\n      <td>0.844407</td>\n      <td>0.499505</td>\n      <td>0.708491</td>\n      <td>0.736831</td>\n      <td>0.706789</td>\n    </tr>\n    <tr>\n      <th>min</th>\n      <td>0.000000</td>\n      <td>-1.726000e+03</td>\n      <td>-1.000000</td>\n      <td>-1.000000</td>\n      <td>-1.000000</td>\n      <td>-1.000000</td>\n      <td>0.000000</td>\n      <td>0.000000</td>\n      <td>0.000000</td>\n      <td>-1.000000</td>\n      <td>-1.000000</td>\n      <td>-1.00000</td>\n      <td>-1.000000</td>\n      <td>-1.000000</td>\n      <td>-1.000000</td>\n      <td>-1.000000</td>\n      <td>-1.000000</td>\n    </tr>\n    <tr>\n      <th>25%</th>\n      <td>314.500000</td>\n      <td>2.700000e+01</td>\n      <td>-1.000000</td>\n      <td>-1.000000</td>\n      <td>-1.000000</td>\n      <td>-1.000000</td>\n      <td>1.000000</td>\n      <td>1.000000</td>\n      <td>1.000000</td>\n      <td>-1.000000</td>\n      <td>-1.000000</td>\n      <td>0.00000</td>\n      <td>-1.000000</td>\n      <td>-1.000000</td>\n      <td>-1.000000</td>\n      <td>-1.000000</td>\n      <td>-1.000000</td>\n    </tr>\n    <tr>\n      <th>50%</th>\n      <td>629.000000</td>\n      <td>3.100000e+01</td>\n      <td>-1.000000</td>\n      <td>-1.000000</td>\n      <td>-1.000000</td>\n      <td>1.000000</td>\n      <td>1.542700</td>\n      <td>2.000000</td>\n      <td>1.166667</td>\n      <td>0.000000</td>\n      <td>-1.000000</td>\n      <td>0.00000</td>\n      <td>0.000000</td>\n      <td>-1.000000</td>\n      <td>0.000000</td>\n      <td>0.000000</td>\n      <td>-1.000000</td>\n    </tr>\n    <tr>\n      <th>75%</th>\n      <td>943.500000</td>\n      <td>3.600000e+01</td>\n      <td>-1.000000</td>\n      <td>-1.000000</td>\n      <td>1.000000</td>\n      <td>1.000000</td>\n      <td>2.000000</td>\n      <td>4.000000</td>\n      <td>1.166667</td>\n      <td>0.000000</td>\n      <td>0.000000</td>\n      <td>0.00000</td>\n      <td>1.000000</td>\n      <td>-1.000000</td>\n      <td>0.000000</td>\n      <td>1.000000</td>\n      <td>-1.000000</td>\n    </tr>\n    <tr>\n      <th>max</th>\n      <td>1258.000000</td>\n      <td>1.000000e+11</td>\n      <td>1.000000</td>\n      <td>1.000000</td>\n      <td>1.000000</td>\n      <td>1.000000</td>\n      <td>3.000000</td>\n      <td>5.000000</td>\n      <td>3.000000</td>\n      <td>1.000000</td>\n      <td>1.000000</td>\n      <td>1.00000</td>\n      <td>1.000000</td>\n      <td>1.000000</td>\n      <td>1.000000</td>\n      <td>1.000000</td>\n      <td>1.000000</td>\n    </tr>\n  </tbody>\n</table>\n</div>"
     },
     "metadata": {},
     "execution_count": 251
    }
   ],
   "source": [
    "df.describe()"
   ]
  },
  {
   "cell_type": "code",
   "execution_count": 252,
   "metadata": {},
   "outputs": [
    {
     "output_type": "execute_result",
     "data": {
      "text/plain": [
       "['Unnamed: 0',\n",
       " 'Timestamp',\n",
       " 'Age',\n",
       " 'Gender',\n",
       " 'Country',\n",
       " 'state',\n",
       " 'self_employed',\n",
       " 'family_history',\n",
       " 'treatment',\n",
       " 'work_interfere',\n",
       " 'no_employees',\n",
       " 'remote_work',\n",
       " 'tech_company',\n",
       " 'benefits',\n",
       " 'care_options',\n",
       " 'wellness_program',\n",
       " 'seek_help',\n",
       " 'anonymity',\n",
       " 'leave',\n",
       " 'mental_health_consequence',\n",
       " 'phys_health_consequence',\n",
       " 'coworkers',\n",
       " 'supervisor',\n",
       " 'mental_health_interview',\n",
       " 'phys_health_interview',\n",
       " 'mental_vs_physical',\n",
       " 'obs_consequence',\n",
       " 'comments']"
      ]
     },
     "metadata": {},
     "execution_count": 252
    }
   ],
   "source": [
    "list(df)"
   ]
  },
  {
   "source": [
    "## Data Cleaning"
   ],
   "cell_type": "markdown",
   "metadata": {}
  },
  {
   "cell_type": "code",
   "execution_count": 253,
   "metadata": {},
   "outputs": [
    {
     "output_type": "execute_result",
     "data": {
      "text/plain": [
       "['Age',\n",
       " 'Gender',\n",
       " 'self_employed',\n",
       " 'family_history',\n",
       " 'treatment',\n",
       " 'remote_work',\n",
       " 'tech_company',\n",
       " 'benefits',\n",
       " 'care_options',\n",
       " 'wellness_program']"
      ]
     },
     "metadata": {},
     "execution_count": 253
    }
   ],
   "source": [
    "df = df.drop(['Unnamed: 0', 'Timestamp', 'Country', 'state', 'work_interfere', 'no_employees', 'phys_health_interview', 'mental_health_interview', 'seek_help', 'anonymity', 'leave', 'mental_health_consequence', 'phys_health_consequence', 'mental_vs_physical','obs_consequence', 'comments', 'coworkers', 'supervisor'], axis=1)\n",
    "list(df)"
   ]
  },
  {
   "source": [
    "## Data Transformation"
   ],
   "cell_type": "markdown",
   "metadata": {}
  },
  {
   "cell_type": "code",
   "execution_count": 254,
   "metadata": {},
   "outputs": [
    {
     "output_type": "execute_result",
     "data": {
      "text/plain": [
       "   Age  Gender  self_employed  family_history  treatment  remote_work  \\\n",
       "0   37       1              2               0          1            0   \n",
       "1   44       0              2               0          0            0   \n",
       "2   32       0              2               0          0            0   \n",
       "3   31       0              2               1          1            0   \n",
       "4   31       0              2               0          0            1   \n",
       "\n",
       "   tech_company  benefits  care_options  wellness_program  \n",
       "0             1         1             2                 0  \n",
       "1             0         2             0                 2  \n",
       "2             1         0             0                 0  \n",
       "3             1         0             1                 0  \n",
       "4             1         1             0                 2  "
      ],
      "text/html": "<div>\n<style scoped>\n    .dataframe tbody tr th:only-of-type {\n        vertical-align: middle;\n    }\n\n    .dataframe tbody tr th {\n        vertical-align: top;\n    }\n\n    .dataframe thead th {\n        text-align: right;\n    }\n</style>\n<table border=\"1\" class=\"dataframe\">\n  <thead>\n    <tr style=\"text-align: right;\">\n      <th></th>\n      <th>Age</th>\n      <th>Gender</th>\n      <th>self_employed</th>\n      <th>family_history</th>\n      <th>treatment</th>\n      <th>remote_work</th>\n      <th>tech_company</th>\n      <th>benefits</th>\n      <th>care_options</th>\n      <th>wellness_program</th>\n    </tr>\n  </thead>\n  <tbody>\n    <tr>\n      <th>0</th>\n      <td>37</td>\n      <td>1</td>\n      <td>2</td>\n      <td>0</td>\n      <td>1</td>\n      <td>0</td>\n      <td>1</td>\n      <td>1</td>\n      <td>2</td>\n      <td>0</td>\n    </tr>\n    <tr>\n      <th>1</th>\n      <td>44</td>\n      <td>0</td>\n      <td>2</td>\n      <td>0</td>\n      <td>0</td>\n      <td>0</td>\n      <td>0</td>\n      <td>2</td>\n      <td>0</td>\n      <td>2</td>\n    </tr>\n    <tr>\n      <th>2</th>\n      <td>32</td>\n      <td>0</td>\n      <td>2</td>\n      <td>0</td>\n      <td>0</td>\n      <td>0</td>\n      <td>1</td>\n      <td>0</td>\n      <td>0</td>\n      <td>0</td>\n    </tr>\n    <tr>\n      <th>3</th>\n      <td>31</td>\n      <td>0</td>\n      <td>2</td>\n      <td>1</td>\n      <td>1</td>\n      <td>0</td>\n      <td>1</td>\n      <td>0</td>\n      <td>1</td>\n      <td>0</td>\n    </tr>\n    <tr>\n      <th>4</th>\n      <td>31</td>\n      <td>0</td>\n      <td>2</td>\n      <td>0</td>\n      <td>0</td>\n      <td>1</td>\n      <td>1</td>\n      <td>1</td>\n      <td>0</td>\n      <td>2</td>\n    </tr>\n  </tbody>\n</table>\n</div>"
     },
     "metadata": {},
     "execution_count": 254
    }
   ],
   "source": [
    "df = df.replace([0, \"Don't know\", \"Not sure\"], 2)\n",
    "df = df.replace([-1, \"No\"], 0)\n",
    "df = df.replace([\"Yes\"], 1)\n",
    "\n",
    "df[\"self_employed\"] = df[\"self_employed\"].astype('int32')\n",
    "df.head()"
   ]
  },
  {
   "source": [
    "## Data Splitting"
   ],
   "cell_type": "markdown",
   "metadata": {}
  },
  {
   "cell_type": "code",
   "execution_count": 255,
   "metadata": {},
   "outputs": [],
   "source": [
    "X = df.drop(['treatment'], axis=1)\n",
    "y = df['treatment']"
   ]
  },
  {
   "cell_type": "code",
   "execution_count": 256,
   "metadata": {},
   "outputs": [
    {
     "output_type": "execute_result",
     "data": {
      "text/plain": [
       "   Age  Gender  self_employed  family_history  remote_work  tech_company  \\\n",
       "0   37       1              2               0            0             1   \n",
       "1   44       0              2               0            0             0   \n",
       "2   32       0              2               0            0             1   \n",
       "3   31       0              2               1            0             1   \n",
       "4   31       0              2               0            1             1   \n",
       "\n",
       "   benefits  care_options  wellness_program  \n",
       "0         1             2                 0  \n",
       "1         2             0                 2  \n",
       "2         0             0                 0  \n",
       "3         0             1                 0  \n",
       "4         1             0                 2  "
      ],
      "text/html": "<div>\n<style scoped>\n    .dataframe tbody tr th:only-of-type {\n        vertical-align: middle;\n    }\n\n    .dataframe tbody tr th {\n        vertical-align: top;\n    }\n\n    .dataframe thead th {\n        text-align: right;\n    }\n</style>\n<table border=\"1\" class=\"dataframe\">\n  <thead>\n    <tr style=\"text-align: right;\">\n      <th></th>\n      <th>Age</th>\n      <th>Gender</th>\n      <th>self_employed</th>\n      <th>family_history</th>\n      <th>remote_work</th>\n      <th>tech_company</th>\n      <th>benefits</th>\n      <th>care_options</th>\n      <th>wellness_program</th>\n    </tr>\n  </thead>\n  <tbody>\n    <tr>\n      <th>0</th>\n      <td>37</td>\n      <td>1</td>\n      <td>2</td>\n      <td>0</td>\n      <td>0</td>\n      <td>1</td>\n      <td>1</td>\n      <td>2</td>\n      <td>0</td>\n    </tr>\n    <tr>\n      <th>1</th>\n      <td>44</td>\n      <td>0</td>\n      <td>2</td>\n      <td>0</td>\n      <td>0</td>\n      <td>0</td>\n      <td>2</td>\n      <td>0</td>\n      <td>2</td>\n    </tr>\n    <tr>\n      <th>2</th>\n      <td>32</td>\n      <td>0</td>\n      <td>2</td>\n      <td>0</td>\n      <td>0</td>\n      <td>1</td>\n      <td>0</td>\n      <td>0</td>\n      <td>0</td>\n    </tr>\n    <tr>\n      <th>3</th>\n      <td>31</td>\n      <td>0</td>\n      <td>2</td>\n      <td>1</td>\n      <td>0</td>\n      <td>1</td>\n      <td>0</td>\n      <td>1</td>\n      <td>0</td>\n    </tr>\n    <tr>\n      <th>4</th>\n      <td>31</td>\n      <td>0</td>\n      <td>2</td>\n      <td>0</td>\n      <td>1</td>\n      <td>1</td>\n      <td>1</td>\n      <td>0</td>\n      <td>2</td>\n    </tr>\n  </tbody>\n</table>\n</div>"
     },
     "metadata": {},
     "execution_count": 256
    }
   ],
   "source": [
    "X.head()"
   ]
  },
  {
   "cell_type": "code",
   "execution_count": 257,
   "metadata": {},
   "outputs": [
    {
     "output_type": "execute_result",
     "data": {
      "text/plain": [
       "0    1\n",
       "1    0\n",
       "2    0\n",
       "3    1\n",
       "4    0\n",
       "Name: treatment, dtype: int64"
      ]
     },
     "metadata": {},
     "execution_count": 257
    }
   ],
   "source": [
    "y.head()"
   ]
  },
  {
   "cell_type": "code",
   "execution_count": 258,
   "metadata": {},
   "outputs": [],
   "source": [
    "# scaler = StandardScaler().fit(X)\n",
    "# X = scaler.transform(X)\n",
    "# X[:10]"
   ]
  },
  {
   "cell_type": "code",
   "execution_count": 259,
   "metadata": {},
   "outputs": [],
   "source": [
    "X_train, X_test, y_train, y_test = train_test_split(X, y, test_size=0.10, random_state=10)"
   ]
  },
  {
   "source": [
    "## Model Fitting"
   ],
   "cell_type": "markdown",
   "metadata": {}
  },
  {
   "cell_type": "code",
   "execution_count": 260,
   "metadata": {},
   "outputs": [],
   "source": [
    "model = LinearRegression().fit(X_train, y_train)"
   ]
  },
  {
   "source": [
    "## Model Eveluation"
   ],
   "cell_type": "markdown",
   "metadata": {}
  },
  {
   "cell_type": "code",
   "execution_count": 261,
   "metadata": {},
   "outputs": [
    {
     "output_type": "execute_result",
     "data": {
      "text/plain": [
       "0.20897725047423643"
      ]
     },
     "metadata": {},
     "execution_count": 261
    }
   ],
   "source": [
    "model.score(X_test, y_test)"
   ]
  },
  {
   "source": [
    "## Save Model"
   ],
   "cell_type": "markdown",
   "metadata": {}
  },
  {
   "cell_type": "code",
   "execution_count": null,
   "metadata": {},
   "outputs": [],
   "source": [
    "dump(model, 'stress-predictor.joblib')"
   ]
  },
  {
   "source": [
    "## Tableau Integration"
   ],
   "cell_type": "markdown",
   "metadata": {}
  },
  {
   "source": [
    "# client = Client('http://localhost:9004/')"
   ],
   "cell_type": "code",
   "metadata": {},
   "execution_count": 262,
   "outputs": []
  },
  {
   "source": [
    "def SuggestHelp(Age, Gender, self_employed, family_history, remote_work, tech_company, benefits, care_options, wellness_program):\n",
    "\n",
    "    Gender = 0 if Gender == 'male' else 1\n",
    "    self_employed = 0 if self_employed == 'no' else 1\n",
    "    family_history = 0 if family_history == 'no' else 1\n",
    "    remote_work = 0 if remote_work == 'no' else 1\n",
    "    tech_company = 0 if tech_company == 'no' else 1\n",
    "    benefits = 0 if benefits == 'no' else 1\n",
    "    care_options = 0 if care_options == 'no' else 1\n",
    "    wellness_program = 0 if wellness_program == 'no' else 1\n",
    "\n",
    "    X = np.column_stack([Age, Gender, self_employed, family_history, remote_work, tech_company, benefits, care_options, wellness_program]).astype('int32') \n",
    "    # X = scaler.transform(X)\n",
    "\n",
    "    prediction = model.predict(X)[0]\n",
    "    print(prediction)\n",
    "\n",
    "    return 'You got the stress' if round(prediction) == 1 else 'no worries, be happy'"
   ],
   "cell_type": "code",
   "metadata": {},
   "execution_count": 263,
   "outputs": []
  },
  {
   "cell_type": "code",
   "execution_count": 266,
   "metadata": {},
   "outputs": [
    {
     "output_type": "stream",
     "name": "stdout",
     "text": [
      "0.55327920160366\n"
     ]
    },
    {
     "output_type": "execute_result",
     "data": {
      "text/plain": [
       "'You got the stress'"
      ]
     },
     "metadata": {},
     "execution_count": 266
    }
   ],
   "source": [
    "SuggestHelp(50, 'female', 'yes', 'no', 'yes', 'yes', 'no', 'no', 'no')"
   ]
  },
  {
   "cell_type": "code",
   "execution_count": 267,
   "metadata": {},
   "outputs": [
    {
     "output_type": "stream",
     "name": "stdout",
     "text": [
      "0.49908332477831086\n"
     ]
    },
    {
     "output_type": "execute_result",
     "data": {
      "text/plain": [
       "'no worries, be happy'"
      ]
     },
     "metadata": {},
     "execution_count": 267
    }
   ],
   "source": [
    "SuggestHelp(24, 'female', 'no', 'no', 'yes', 'yes', 'yes', 'yes', 'no')"
   ]
  }
 ]
}