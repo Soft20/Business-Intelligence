{
 "metadata": {
  "language_info": {
   "codemirror_mode": {
    "name": "ipython",
    "version": 3
   },
   "file_extension": ".py",
   "mimetype": "text/x-python",
   "name": "python",
   "nbconvert_exporter": "python",
   "pygments_lexer": "ipython3",
   "version": "3.7.4-final"
  },
  "orig_nbformat": 2,
  "kernelspec": {
   "name": "python3",
   "display_name": "Python 3",
   "language": "python"
  }
 },
 "nbformat": 4,
 "nbformat_minor": 2,
 "cells": [
  {
   "source": [
    "# Anorexia & Bulimia Preprocessor"
   ],
   "cell_type": "markdown",
   "metadata": {}
  },
  {
   "source": [
    "## Imports"
   ],
   "cell_type": "markdown",
   "metadata": {}
  },
  {
   "cell_type": "code",
   "execution_count": 1,
   "metadata": {},
   "outputs": [],
   "source": [
    "import pandas as pd"
   ]
  },
  {
   "source": [
    "## Load Data"
   ],
   "cell_type": "markdown",
   "metadata": {}
  },
  {
   "cell_type": "code",
   "execution_count": 2,
   "metadata": {},
   "outputs": [
    {
     "output_type": "execute_result",
     "data": {
      "text/plain": [
       "        Entity Code  Year  \\\n",
       "0  Afghanistan  AFG  1990   \n",
       "1  Afghanistan  AFG  1991   \n",
       "2  Afghanistan  AFG  1992   \n",
       "3  Afghanistan  AFG  1993   \n",
       "4  Afghanistan  AFG  1994   \n",
       "\n",
       "   Prevalence - Anorexia nervosa - Sex: Both - Age: All Ages (Number)  \\\n",
       "0                                        1869.815372                    \n",
       "1                                        1940.434799                    \n",
       "2                                        2379.431771                    \n",
       "3                                        2815.379527                    \n",
       "4                                        2868.647733                    \n",
       "\n",
       "   Prevalence - Bulimia nervosa - Sex: Both - Age: All Ages (Number)  \n",
       "0                                        6671.754883                  \n",
       "1                                        6880.802091                  \n",
       "2                                        8447.597072                  \n",
       "3                                       10093.391198                  \n",
       "4                                       10426.222061                  "
      ],
      "text/html": "<div>\n<style scoped>\n    .dataframe tbody tr th:only-of-type {\n        vertical-align: middle;\n    }\n\n    .dataframe tbody tr th {\n        vertical-align: top;\n    }\n\n    .dataframe thead th {\n        text-align: right;\n    }\n</style>\n<table border=\"1\" class=\"dataframe\">\n  <thead>\n    <tr style=\"text-align: right;\">\n      <th></th>\n      <th>Entity</th>\n      <th>Code</th>\n      <th>Year</th>\n      <th>Prevalence - Anorexia nervosa - Sex: Both - Age: All Ages (Number)</th>\n      <th>Prevalence - Bulimia nervosa - Sex: Both - Age: All Ages (Number)</th>\n    </tr>\n  </thead>\n  <tbody>\n    <tr>\n      <th>0</th>\n      <td>Afghanistan</td>\n      <td>AFG</td>\n      <td>1990</td>\n      <td>1869.815372</td>\n      <td>6671.754883</td>\n    </tr>\n    <tr>\n      <th>1</th>\n      <td>Afghanistan</td>\n      <td>AFG</td>\n      <td>1991</td>\n      <td>1940.434799</td>\n      <td>6880.802091</td>\n    </tr>\n    <tr>\n      <th>2</th>\n      <td>Afghanistan</td>\n      <td>AFG</td>\n      <td>1992</td>\n      <td>2379.431771</td>\n      <td>8447.597072</td>\n    </tr>\n    <tr>\n      <th>3</th>\n      <td>Afghanistan</td>\n      <td>AFG</td>\n      <td>1993</td>\n      <td>2815.379527</td>\n      <td>10093.391198</td>\n    </tr>\n    <tr>\n      <th>4</th>\n      <td>Afghanistan</td>\n      <td>AFG</td>\n      <td>1994</td>\n      <td>2868.647733</td>\n      <td>10426.222061</td>\n    </tr>\n  </tbody>\n</table>\n</div>"
     },
     "metadata": {},
     "execution_count": 2
    }
   ],
   "source": [
    "file_name = \"number-with-anorexia-and-bulimia-nervosa\"\n",
    "df = pd.read_csv(f\"../data/{file_name}.csv\")\n",
    "df.head()"
   ]
  },
  {
   "source": [
    "## Analysis"
   ],
   "cell_type": "markdown",
   "metadata": {}
  },
  {
   "cell_type": "code",
   "execution_count": 3,
   "metadata": {},
   "outputs": [
    {
     "output_type": "execute_result",
     "data": {
      "text/plain": [
       "Entity                                                                  0\n",
       "Code                                                                  980\n",
       "Year                                                                    0\n",
       "Prevalence - Anorexia nervosa - Sex: Both - Age: All Ages (Number)      0\n",
       "Prevalence - Bulimia nervosa - Sex: Both - Age: All Ages (Number)       0\n",
       "dtype: int64"
      ]
     },
     "metadata": {},
     "execution_count": 3
    }
   ],
   "source": [
    "df.isnull().sum()"
   ]
  },
  {
   "cell_type": "code",
   "execution_count": 4,
   "metadata": {},
   "outputs": [
    {
     "output_type": "execute_result",
     "data": {
      "text/plain": [
       "count    6468.000000\n",
       "mean     2003.500000\n",
       "std         8.078372\n",
       "min      1990.000000\n",
       "25%      1996.750000\n",
       "50%      2003.500000\n",
       "75%      2010.250000\n",
       "max      2017.000000\n",
       "Name: Year, dtype: float64"
      ]
     },
     "metadata": {},
     "execution_count": 4
    }
   ],
   "source": [
    "df[\"Year\"].describe()"
   ]
  },
  {
   "source": [
    "## Date Cleaning"
   ],
   "cell_type": "markdown",
   "metadata": {}
  },
  {
   "cell_type": "code",
   "execution_count": 5,
   "metadata": {},
   "outputs": [
    {
     "output_type": "execute_result",
     "data": {
      "text/plain": [
       "        Entity Code  Year  Anorexia  Bulimia\n",
       "0  Afghanistan  AFG  1990      1869     6671\n",
       "1  Afghanistan  AFG  1991      1940     6880\n",
       "2  Afghanistan  AFG  1992      2379     8447\n",
       "3  Afghanistan  AFG  1993      2815    10093\n",
       "4  Afghanistan  AFG  1994      2868    10426"
      ],
      "text/html": "<div>\n<style scoped>\n    .dataframe tbody tr th:only-of-type {\n        vertical-align: middle;\n    }\n\n    .dataframe tbody tr th {\n        vertical-align: top;\n    }\n\n    .dataframe thead th {\n        text-align: right;\n    }\n</style>\n<table border=\"1\" class=\"dataframe\">\n  <thead>\n    <tr style=\"text-align: right;\">\n      <th></th>\n      <th>Entity</th>\n      <th>Code</th>\n      <th>Year</th>\n      <th>Anorexia</th>\n      <th>Bulimia</th>\n    </tr>\n  </thead>\n  <tbody>\n    <tr>\n      <th>0</th>\n      <td>Afghanistan</td>\n      <td>AFG</td>\n      <td>1990</td>\n      <td>1869</td>\n      <td>6671</td>\n    </tr>\n    <tr>\n      <th>1</th>\n      <td>Afghanistan</td>\n      <td>AFG</td>\n      <td>1991</td>\n      <td>1940</td>\n      <td>6880</td>\n    </tr>\n    <tr>\n      <th>2</th>\n      <td>Afghanistan</td>\n      <td>AFG</td>\n      <td>1992</td>\n      <td>2379</td>\n      <td>8447</td>\n    </tr>\n    <tr>\n      <th>3</th>\n      <td>Afghanistan</td>\n      <td>AFG</td>\n      <td>1993</td>\n      <td>2815</td>\n      <td>10093</td>\n    </tr>\n    <tr>\n      <th>4</th>\n      <td>Afghanistan</td>\n      <td>AFG</td>\n      <td>1994</td>\n      <td>2868</td>\n      <td>10426</td>\n    </tr>\n  </tbody>\n</table>\n</div>"
     },
     "metadata": {},
     "execution_count": 5
    }
   ],
   "source": [
    "df = df.rename(columns={'Prevalence - Anorexia nervosa - Sex: Both - Age: All Ages (Number)':\"Anorexia\", 'Prevalence - Bulimia nervosa - Sex: Both - Age: All Ages (Number)':\"Bulimia\"})\n",
    "df = df.astype({\"Anorexia\": int, \"Bulimia\": int})\n",
    "df.head()"
   ]
  },
  {
   "cell_type": "code",
   "execution_count": 6,
   "metadata": {},
   "outputs": [
    {
     "output_type": "execute_result",
     "data": {
      "text/plain": [
       "        Entity  Year  Anorexia  Bulimia\n",
       "0  Afghanistan  1990      1869     6671\n",
       "1  Afghanistan  1991      1940     6880\n",
       "2  Afghanistan  1992      2379     8447\n",
       "3  Afghanistan  1993      2815    10093\n",
       "4  Afghanistan  1994      2868    10426"
      ],
      "text/html": "<div>\n<style scoped>\n    .dataframe tbody tr th:only-of-type {\n        vertical-align: middle;\n    }\n\n    .dataframe tbody tr th {\n        vertical-align: top;\n    }\n\n    .dataframe thead th {\n        text-align: right;\n    }\n</style>\n<table border=\"1\" class=\"dataframe\">\n  <thead>\n    <tr style=\"text-align: right;\">\n      <th></th>\n      <th>Entity</th>\n      <th>Year</th>\n      <th>Anorexia</th>\n      <th>Bulimia</th>\n    </tr>\n  </thead>\n  <tbody>\n    <tr>\n      <th>0</th>\n      <td>Afghanistan</td>\n      <td>1990</td>\n      <td>1869</td>\n      <td>6671</td>\n    </tr>\n    <tr>\n      <th>1</th>\n      <td>Afghanistan</td>\n      <td>1991</td>\n      <td>1940</td>\n      <td>6880</td>\n    </tr>\n    <tr>\n      <th>2</th>\n      <td>Afghanistan</td>\n      <td>1992</td>\n      <td>2379</td>\n      <td>8447</td>\n    </tr>\n    <tr>\n      <th>3</th>\n      <td>Afghanistan</td>\n      <td>1993</td>\n      <td>2815</td>\n      <td>10093</td>\n    </tr>\n    <tr>\n      <th>4</th>\n      <td>Afghanistan</td>\n      <td>1994</td>\n      <td>2868</td>\n      <td>10426</td>\n    </tr>\n  </tbody>\n</table>\n</div>"
     },
     "metadata": {},
     "execution_count": 6
    }
   ],
   "source": [
    "df = df.drop(columns=['Code'])\n",
    "df.head()"
   ]
  },
  {
   "cell_type": "code",
   "execution_count": 7,
   "metadata": {},
   "outputs": [
    {
     "output_type": "execute_result",
     "data": {
      "text/plain": [
       "                   Entity  Year  Anorexia  Bulimia\n",
       "0             Afghanistan  1990      1869     6671\n",
       "28                Albania  1990       932     3529\n",
       "56                Algeria  1990      8745    36943\n",
       "84         American Samoa  1990        24       68\n",
       "112  Andean Latin America  1990     14020    95559"
      ],
      "text/html": "<div>\n<style scoped>\n    .dataframe tbody tr th:only-of-type {\n        vertical-align: middle;\n    }\n\n    .dataframe tbody tr th {\n        vertical-align: top;\n    }\n\n    .dataframe thead th {\n        text-align: right;\n    }\n</style>\n<table border=\"1\" class=\"dataframe\">\n  <thead>\n    <tr style=\"text-align: right;\">\n      <th></th>\n      <th>Entity</th>\n      <th>Year</th>\n      <th>Anorexia</th>\n      <th>Bulimia</th>\n    </tr>\n  </thead>\n  <tbody>\n    <tr>\n      <th>0</th>\n      <td>Afghanistan</td>\n      <td>1990</td>\n      <td>1869</td>\n      <td>6671</td>\n    </tr>\n    <tr>\n      <th>28</th>\n      <td>Albania</td>\n      <td>1990</td>\n      <td>932</td>\n      <td>3529</td>\n    </tr>\n    <tr>\n      <th>56</th>\n      <td>Algeria</td>\n      <td>1990</td>\n      <td>8745</td>\n      <td>36943</td>\n    </tr>\n    <tr>\n      <th>84</th>\n      <td>American Samoa</td>\n      <td>1990</td>\n      <td>24</td>\n      <td>68</td>\n    </tr>\n    <tr>\n      <th>112</th>\n      <td>Andean Latin America</td>\n      <td>1990</td>\n      <td>14020</td>\n      <td>95559</td>\n    </tr>\n  </tbody>\n</table>\n</div>"
     },
     "metadata": {},
     "execution_count": 7
    }
   ],
   "source": [
    "df_1990 = df.drop(df[df[\"Year\"] != 1990].index)\n",
    "df_1990.head()"
   ]
  },
  {
   "cell_type": "code",
   "execution_count": 8,
   "metadata": {},
   "outputs": [
    {
     "output_type": "execute_result",
     "data": {
      "text/plain": [
       "                   Entity  Year  Anorexia  Bulimia\n",
       "27            Afghanistan  2017      7050    27198\n",
       "55                Albania  2017       844     3497\n",
       "83                Algeria  2017     14588    75117\n",
       "111        American Samoa  2017        24       68\n",
       "139  Andean Latin America  2017     24809   194054"
      ],
      "text/html": "<div>\n<style scoped>\n    .dataframe tbody tr th:only-of-type {\n        vertical-align: middle;\n    }\n\n    .dataframe tbody tr th {\n        vertical-align: top;\n    }\n\n    .dataframe thead th {\n        text-align: right;\n    }\n</style>\n<table border=\"1\" class=\"dataframe\">\n  <thead>\n    <tr style=\"text-align: right;\">\n      <th></th>\n      <th>Entity</th>\n      <th>Year</th>\n      <th>Anorexia</th>\n      <th>Bulimia</th>\n    </tr>\n  </thead>\n  <tbody>\n    <tr>\n      <th>27</th>\n      <td>Afghanistan</td>\n      <td>2017</td>\n      <td>7050</td>\n      <td>27198</td>\n    </tr>\n    <tr>\n      <th>55</th>\n      <td>Albania</td>\n      <td>2017</td>\n      <td>844</td>\n      <td>3497</td>\n    </tr>\n    <tr>\n      <th>83</th>\n      <td>Algeria</td>\n      <td>2017</td>\n      <td>14588</td>\n      <td>75117</td>\n    </tr>\n    <tr>\n      <th>111</th>\n      <td>American Samoa</td>\n      <td>2017</td>\n      <td>24</td>\n      <td>68</td>\n    </tr>\n    <tr>\n      <th>139</th>\n      <td>Andean Latin America</td>\n      <td>2017</td>\n      <td>24809</td>\n      <td>194054</td>\n    </tr>\n  </tbody>\n</table>\n</div>"
     },
     "metadata": {},
     "execution_count": 8
    }
   ],
   "source": [
    "df_2017 = df.drop(df[df[\"Year\"] != 2017].index)\n",
    "df_2017.head()"
   ]
  },
  {
   "source": [
    "## Save Data"
   ],
   "cell_type": "markdown",
   "metadata": {}
  },
  {
   "cell_type": "code",
   "execution_count": 9,
   "metadata": {},
   "outputs": [],
   "source": [
    "df_1990.to_csv(f\"../data/anorexia-bulimia-1990.csv\")\n",
    "df_2017.to_csv(f\"../data/anorexia-bulimia-2017.csv\")"
   ]
  }
 ]
}